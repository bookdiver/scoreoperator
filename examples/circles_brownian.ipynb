{
 "cells": [
  {
   "cell_type": "code",
   "execution_count": 1,
   "metadata": {},
   "outputs": [
    {
     "name": "stdout",
     "output_type": "stream",
     "text": [
      "/home/ubuntu/Projects/scoreoperator\n"
     ]
    }
   ],
   "source": [
    "%load_ext autoreload\n",
    "%autoreload 2\n",
    "%cd .."
   ]
  },
  {
   "cell_type": "code",
   "execution_count": 2,
   "metadata": {},
   "outputs": [
    {
     "name": "stderr",
     "output_type": "stream",
     "text": [
      "WARNING:absl:Tensorflow library not found, tensorflow.io.gfile operations will use native shim calls. GCS paths (i.e. 'gs://...') cannot be accessed.\n"
     ]
    }
   ],
   "source": [
    "import jax\n",
    "import jax.numpy as jnp\n",
    "import matplotlib.pyplot as plt\n",
    "from ml_collections import ConfigDict\n",
    "\n",
    "from src.data.toys.toy_shapes import Circle\n",
    "from src.models.nerualop.FNO import TimeDependentFNO1D\n",
    "from src.models.diffusion.diffusion import DiffusionLoader\n",
    "from src.models.diffusion.sde import BrownianSDE\n",
    "from src.models.diffusion.gaussian_process import GaussianProcess\n",
    "from src.utils.trainer import TrainerModule"
   ]
  },
  {
   "cell_type": "code",
   "execution_count": 3,
   "metadata": {},
   "outputs": [
    {
     "name": "stderr",
     "output_type": "stream",
     "text": [
      "WARNING:jax._src.xla_bridge:An NVIDIA GPU may be present on this machine, but a CUDA-enabled jaxlib is not installed. Falling back to cpu.\n"
     ]
    },
    {
     "name": "stdout",
     "output_type": "stream",
     "text": [
      "initial conidtion shape: (16, 2), target shape: (16, 2)\n"
     ]
    }
   ],
   "source": [
    "circle1 = Circle(radius=1.0)\n",
    "circle2 = Circle(radius=0.5)\n",
    "\n",
    "circle1_sample = circle1.sample(n_pts=16)\n",
    "circle2_sample = circle2.sample(n_pts=16)\n",
    "print(f\"initial conidtion shape: {circle1_sample.shape}, target shape: {circle2_sample.shape}\")"
   ]
  },
  {
   "cell_type": "code",
   "execution_count": 4,
   "metadata": {},
   "outputs": [],
   "source": [
    "config = ConfigDict()\n",
    "\n",
    "# Gaussian process\n",
    "config.gp = ConfigDict()\n",
    "config.gp.input_dim = 1\n",
    "config.gp.output_dim = 2\n",
    "config.gp.n_sample_pts = 16\n",
    "config.gp.kernel_type = \"delta\"\n",
    "config.gp.sigma = 1.0\n",
    "\n",
    "# SDE\n",
    "config.sde = ConfigDict()\n",
    "config.sde.sigma = 1.0\n",
    "\n",
    "# FNO\n",
    "config.model = ConfigDict()\n",
    "config.model.output_dim = 2\n",
    "config.model.lifting_dims = [8, 8, 8, 8]\n",
    "config.model.max_n_modes = [8, 8, 8]\n",
    "config.model.activation = \"relu\"\n",
    "config.model.time_encoding_dim = 64\n",
    "config.model.time_incrop_method = \"time_modulated\"\n",
    "\n",
    "# training\n",
    "config.training = ConfigDict()\n",
    "config.training.seed = 42\n",
    "config.training.learning_rate = 1e-3\n",
    "config.training.optimizer_name = \"adam\"\n",
    "config.training.warmup_steps = 500\n",
    "config.training.train_batch_size = 64\n",
    "config.training.train_num_epochs = 100\n",
    "config.training.train_num_steps_per_epoch = 200\n",
    "config.training.save_dir = \"../pretrained/\"\n",
    "config.training.load_dir = \"../pretrained/\""
   ]
  },
  {
   "cell_type": "code",
   "execution_count": 5,
   "metadata": {},
   "outputs": [
    {
     "ename": "TypeError",
     "evalue": "BrownianSDE._transition_prob() missing 1 required positional argument: 'x0'",
     "output_type": "error",
     "traceback": [
      "\u001b[0;31m---------------------------------------------------------------------------\u001b[0m",
      "\u001b[0;31mTypeError\u001b[0m                                 Traceback (most recent call last)",
      "Cell \u001b[0;32mIn[5], line 11\u001b[0m\n\u001b[1;32m      3\u001b[0m sde \u001b[38;5;241m=\u001b[39m BrownianSDE(\u001b[38;5;241m*\u001b[39m\u001b[38;5;241m*\u001b[39mconfig\u001b[38;5;241m.\u001b[39msde, gp\u001b[38;5;241m=\u001b[39mgp)\n\u001b[1;32m      4\u001b[0m diffusion_loader \u001b[38;5;241m=\u001b[39m DiffusionLoader(\n\u001b[1;32m      5\u001b[0m     sde, \n\u001b[1;32m      6\u001b[0m     seed\u001b[38;5;241m=\u001b[39mconfig\u001b[38;5;241m.\u001b[39mtraining\u001b[38;5;241m.\u001b[39mseed,\n\u001b[1;32m      7\u001b[0m     init_cond\u001b[38;5;241m=\u001b[39mcircle1_sample,\n\u001b[1;32m      8\u001b[0m     batch_size\u001b[38;5;241m=\u001b[39mconfig\u001b[38;5;241m.\u001b[39mtraining\u001b[38;5;241m.\u001b[39mtrain_batch_size,\n\u001b[1;32m      9\u001b[0m     shuffle\u001b[38;5;241m=\u001b[39m\u001b[38;5;28;01mTrue\u001b[39;00m)\n\u001b[0;32m---> 11\u001b[0m trainer \u001b[38;5;241m=\u001b[39m \u001b[43mTrainerModule\u001b[49m\u001b[43m(\u001b[49m\n\u001b[1;32m     12\u001b[0m \u001b[43m    \u001b[49m\u001b[43mconfig\u001b[49m\u001b[38;5;241;43m=\u001b[39;49m\u001b[43mconfig\u001b[49m\u001b[38;5;241;43m.\u001b[39;49m\u001b[43mtraining\u001b[49m\u001b[43m,\u001b[49m\n\u001b[1;32m     13\u001b[0m \u001b[43m    \u001b[49m\u001b[43mmodel\u001b[49m\u001b[38;5;241;43m=\u001b[39;49m\u001b[43mmodel\u001b[49m\u001b[43m,\u001b[49m\n\u001b[1;32m     14\u001b[0m \u001b[43m    \u001b[49m\u001b[43mdataloader\u001b[49m\u001b[38;5;241;43m=\u001b[39;49m\u001b[43mdiffusion_loader\u001b[49m\u001b[43m,\u001b[49m\n\u001b[1;32m     15\u001b[0m \u001b[43m    \u001b[49m\u001b[43menable_wandb\u001b[49m\u001b[38;5;241;43m=\u001b[39;49m\u001b[38;5;28;43;01mFalse\u001b[39;49;00m\n\u001b[1;32m     16\u001b[0m \u001b[43m)\u001b[49m\n",
      "File \u001b[0;32m~/Projects/scoreoperator/src/utils/trainer.py:38\u001b[0m, in \u001b[0;36mTrainerModule.__init__\u001b[0;34m(self, config, model, dataloader, enable_wandb)\u001b[0m\n\u001b[1;32m     35\u001b[0m \u001b[38;5;28mself\u001b[39m\u001b[38;5;241m.\u001b[39m_enable_wandb \u001b[38;5;241m=\u001b[39m enable_wandb\n\u001b[1;32m     37\u001b[0m \u001b[38;5;28mself\u001b[39m\u001b[38;5;241m.\u001b[39m_create_functions()\n\u001b[0;32m---> 38\u001b[0m \u001b[38;5;28;43mself\u001b[39;49m\u001b[38;5;241;43m.\u001b[39;49m\u001b[43m_init_model\u001b[49m\u001b[43m(\u001b[49m\u001b[43m)\u001b[49m\n",
      "File \u001b[0;32m~/Projects/scoreoperator/src/utils/trainer.py:90\u001b[0m, in \u001b[0;36mTrainerModule._init_model\u001b[0;34m(self)\u001b[0m\n\u001b[1;32m     89\u001b[0m \u001b[38;5;28;01mdef\u001b[39;00m \u001b[38;5;21m_init_model\u001b[39m(\u001b[38;5;28mself\u001b[39m):\n\u001b[0;32m---> 90\u001b[0m     xs, ts, _ \u001b[38;5;241m=\u001b[39m \u001b[38;5;28;43mnext\u001b[39;49m\u001b[43m(\u001b[49m\u001b[38;5;28;43mself\u001b[39;49m\u001b[38;5;241;43m.\u001b[39;49m\u001b[43m_dataloader\u001b[49m\u001b[43m)\u001b[49m\n\u001b[1;32m     91\u001b[0m     init_rng_key \u001b[38;5;241m=\u001b[39m jax\u001b[38;5;241m.\u001b[39mrandom\u001b[38;5;241m.\u001b[39mPRNGKey(\u001b[38;5;28mself\u001b[39m\u001b[38;5;241m.\u001b[39m_seed)\n\u001b[1;32m     92\u001b[0m     variables \u001b[38;5;241m=\u001b[39m \u001b[38;5;28mself\u001b[39m\u001b[38;5;241m.\u001b[39m_model\u001b[38;5;241m.\u001b[39minit(init_rng_key, xs, ts, train\u001b[38;5;241m=\u001b[39m\u001b[38;5;28;01mTrue\u001b[39;00m)\n",
      "File \u001b[0;32m~/Projects/scoreoperator/src/models/diffusion/diffusion.py:19\u001b[0m, in \u001b[0;36mDiffusionLoader.__next__\u001b[0;34m(self)\u001b[0m\n\u001b[1;32m     17\u001b[0m ts \u001b[38;5;241m=\u001b[39m \u001b[38;5;28mself\u001b[39m\u001b[38;5;241m.\u001b[39m_sample_t()\n\u001b[1;32m     18\u001b[0m keys \u001b[38;5;241m=\u001b[39m jax\u001b[38;5;241m.\u001b[39mrandom\u001b[38;5;241m.\u001b[39msplit(key, \u001b[38;5;28mself\u001b[39m\u001b[38;5;241m.\u001b[39m_batch_size)\n\u001b[0;32m---> 19\u001b[0m xs, ts, zs \u001b[38;5;241m=\u001b[39m \u001b[43mjax\u001b[49m\u001b[38;5;241;43m.\u001b[39;49m\u001b[43mvmap\u001b[49m\u001b[43m(\u001b[49m\u001b[38;5;28;43mself\u001b[39;49m\u001b[38;5;241;43m.\u001b[39;49m\u001b[43m_sde\u001b[49m\u001b[38;5;241;43m.\u001b[39;49m\u001b[43msample\u001b[49m\u001b[43m,\u001b[49m\u001b[43m \u001b[49m\u001b[43min_axes\u001b[49m\u001b[38;5;241;43m=\u001b[39;49m\u001b[43m(\u001b[49m\u001b[38;5;241;43m0\u001b[39;49m\u001b[43m,\u001b[49m\u001b[43m \u001b[49m\u001b[38;5;241;43m0\u001b[39;49m\u001b[43m,\u001b[49m\u001b[43m \u001b[49m\u001b[38;5;28;43;01mNone\u001b[39;49;00m\u001b[43m,\u001b[49m\u001b[43m \u001b[49m\u001b[38;5;28;43;01mNone\u001b[39;49;00m\u001b[43m)\u001b[49m\u001b[43m)\u001b[49m\u001b[43m(\u001b[49m\u001b[43mkeys\u001b[49m\u001b[43m,\u001b[49m\u001b[43m \u001b[49m\u001b[43mts\u001b[49m\u001b[43m,\u001b[49m\u001b[43m \u001b[49m\u001b[38;5;28;43mself\u001b[39;49m\u001b[38;5;241;43m.\u001b[39;49m\u001b[43m_init_cond\u001b[49m\u001b[43m,\u001b[49m\u001b[43m \u001b[49m\u001b[38;5;28;43;01mTrue\u001b[39;49;00m\u001b[43m)\u001b[49m\n\u001b[1;32m     20\u001b[0m \u001b[38;5;28;01mreturn\u001b[39;00m xs, ts, zs\n",
      "    \u001b[0;31m[... skipping hidden 3 frame]\u001b[0m\n",
      "File \u001b[0;32m~/Projects/scoreoperator/src/models/diffusion/sde.py:23\u001b[0m, in \u001b[0;36mSDE.sample\u001b[0;34m(self, key, t, x0, verbose)\u001b[0m\n\u001b[1;32m     22\u001b[0m \u001b[38;5;28;01mdef\u001b[39;00m \u001b[38;5;21msample\u001b[39m(\u001b[38;5;28mself\u001b[39m, key, t, x0, verbose\u001b[38;5;241m=\u001b[39m\u001b[38;5;28;01mFalse\u001b[39;00m):\n\u001b[0;32m---> 23\u001b[0m     mean, std \u001b[38;5;241m=\u001b[39m \u001b[38;5;28;43mself\u001b[39;49m\u001b[38;5;241;43m.\u001b[39;49m\u001b[43m_transition_prob\u001b[49m\u001b[43m(\u001b[49m\u001b[43mt\u001b[49m\u001b[43m,\u001b[49m\u001b[43m \u001b[49m\u001b[43mx0\u001b[49m\u001b[43m)\u001b[49m\n\u001b[1;32m     24\u001b[0m     z \u001b[38;5;241m=\u001b[39m \u001b[38;5;28mself\u001b[39m\u001b[38;5;241m.\u001b[39m_gp\u001b[38;5;241m.\u001b[39msample(key)\n\u001b[1;32m     25\u001b[0m     xt \u001b[38;5;241m=\u001b[39m mean \u001b[38;5;241m+\u001b[39m std \u001b[38;5;241m*\u001b[39m z\n",
      "\u001b[0;31mTypeError\u001b[0m: BrownianSDE._transition_prob() missing 1 required positional argument: 'x0'"
     ]
    }
   ],
   "source": [
    "model = TimeDependentFNO1D(**config.model)\n",
    "gp = GaussianProcess(**config.gp)\n",
    "sde = BrownianSDE(**config.sde, gp=gp)\n",
    "diffusion_loader = DiffusionLoader(\n",
    "    sde, \n",
    "    seed=config.training.seed,\n",
    "    init_cond=circle1_sample,\n",
    "    batch_size=config.training.train_batch_size,\n",
    "    shuffle=True)\n",
    "\n",
    "trainer = TrainerModule(\n",
    "    config=config.training,\n",
    "    model=model,\n",
    "    dataloader=diffusion_loader,\n",
    "    enable_wandb=False\n",
    ")"
   ]
  },
  {
   "cell_type": "code",
   "execution_count": 14,
   "metadata": {},
   "outputs": [
    {
     "name": "stderr",
     "output_type": "stream",
     "text": [
      "Training: 100%|██████████| 100/100 [01:37<00:00,  1.02epoch/s, Epoch=99, eval_loss=0.0563, train_loss=0.0664]\n"
     ]
    }
   ],
   "source": [
    "trainer.train_model()"
   ]
  },
  {
   "cell_type": "code",
   "execution_count": 1,
   "metadata": {},
   "outputs": [
    {
     "ename": "NameError",
     "evalue": "name 'circle1_sample' is not defined",
     "output_type": "error",
     "traceback": [
      "\u001b[0;31m---------------------------------------------------------------------------\u001b[0m",
      "\u001b[0;31mNameError\u001b[0m                                 Traceback (most recent call last)",
      "Cell \u001b[0;32mIn[1], line 1\u001b[0m\n\u001b[0;32m----> 1\u001b[0m \u001b[38;5;28;01mdef\u001b[39;00m \u001b[38;5;21mtrue_brownian_score\u001b[39m(t, x, x0\u001b[38;5;241m=\u001b[39m\u001b[43mcircle1_sample\u001b[49m):\n\u001b[1;32m      2\u001b[0m     mean, std \u001b[38;5;241m=\u001b[39m sde\u001b[38;5;241m.\u001b[39m_transition_prob(t, x, x0)\n\u001b[1;32m      3\u001b[0m     \u001b[38;5;28;01mreturn\u001b[39;00m \u001b[38;5;241m-\u001b[39m (x \u001b[38;5;241m-\u001b[39m mean) \u001b[38;5;241m/\u001b[39m std\u001b[38;5;241m*\u001b[39m\u001b[38;5;241m*\u001b[39m\u001b[38;5;241m2\u001b[39m\n",
      "\u001b[0;31mNameError\u001b[0m: name 'circle1_sample' is not defined"
     ]
    }
   ],
   "source": [
    "def true_brownian_score(t, x, x0=circle1_sample):\n",
    "    mean, std = sde._transition_prob(t, x, x0)\n",
    "    return - (x - mean) / std**2\n",
    "\n",
    "def est_brownian_score(t, x, x0=circle1_sample):\n",
    "    x = jnp.expand_dims(x, axis=0)\n",
    "    t = jnp.expand_dims(t, axis=0)\n",
    "    score = trainer.infer_model((x, t))\n",
    "    return score.squeeze()"
   ]
  }
 ],
 "metadata": {
  "kernelspec": {
   "display_name": "jax_cpu",
   "language": "python",
   "name": "python3"
  },
  "language_info": {
   "codemirror_mode": {
    "name": "ipython",
    "version": 3
   },
   "file_extension": ".py",
   "mimetype": "text/x-python",
   "name": "python",
   "nbconvert_exporter": "python",
   "pygments_lexer": "ipython3",
   "version": "3.11.4"
  }
 },
 "nbformat": 4,
 "nbformat_minor": 2
}
